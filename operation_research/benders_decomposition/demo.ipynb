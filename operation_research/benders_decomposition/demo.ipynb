{
 "cells": [
  {
   "cell_type": "code",
   "execution_count": 1,
   "metadata": {},
   "outputs": [],
   "source": [
    "import gurobipy as gp\n",
    "import numpy as np"
   ]
  },
  {
   "cell_type": "code",
   "execution_count": 2,
   "metadata": {},
   "outputs": [],
   "source": [
    "coefficient = dict()\n",
    "# coefficient['y'] = -np.r_[[1.045], [0] * 10]\n",
    "coefficient['y'] = np.r_[[-1.045], [0] * 10]\n",
    "coefficient['x'] = -np.r_[1.01:1.10:0.01]\n",
    "# coefficient['b'] = np.r_[[1000], np.r_[[100] * 10]]\n",
    "coefficient['b'] = np.r_[[1000], [100] * 10]"
   ]
  },
  {
   "cell_type": "code",
   "execution_count": 3,
   "metadata": {},
   "outputs": [
    {
     "data": {
      "text/plain": [
       "{'y': array([-1.045,  0.   ,  0.   ,  0.   ,  0.   ,  0.   ,  0.   ,  0.   ,\n",
       "         0.   ,  0.   ,  0.   ]),\n",
       " 'x': array([-1.01, -1.02, -1.03, -1.04, -1.05, -1.06, -1.07, -1.08, -1.09,\n",
       "        -1.1 ]),\n",
       " 'b': array([1000,  100,  100,  100,  100,  100,  100,  100,  100,  100,  100])}"
      ]
     },
     "execution_count": 3,
     "metadata": {},
     "output_type": "execute_result"
    }
   ],
   "source": [
    "coefficient"
   ]
  },
  {
   "cell_type": "code",
   "execution_count": 4,
   "metadata": {},
   "outputs": [],
   "source": [
    "from typing import Any\n",
    "\n",
    "# 继承type，使Singleton成为元类，以Singleton为metaclass的类在实例化的时候调用Singleton的__call__()函数\n",
    "class Singleton(type):\n",
    "    _instance = {}\n",
    "\n",
    "    def __call__(cls, *args: Any, **kwds: Any) -> Any:\n",
    "        if cls not in cls._instance:\n",
    "            cls._instance[cls] = super(Singleton, cls).__call__(*args,  **kwds)\n",
    "        return cls._instance[cls]"
   ]
  },
  {
   "cell_type": "code",
   "execution_count": 5,
   "metadata": {},
   "outputs": [
    {
     "name": "stdout",
     "output_type": "stream",
     "text": [
      "Restricted license - for non-production use only - expires 2025-11-24\n",
      "[  0.   0.   0.   0. 100. 100. 100. 100. 100. 100.]\n",
      "[400.]\n",
      "1063.0\n"
     ]
    }
   ],
   "source": [
    "m = gp.Model()\n",
    "x = m.addMVar(10, lb=0, ub=100, vtype=gp.GRB.CONTINUOUS, name=\"x\")\n",
    "y = m.addMVar(1, vtype=gp.GRB.INTEGER, name='y')\n",
    "m.setObjective(1.045 * y - (coefficient['x'] * x).sum(), gp.GRB.MAXIMIZE)\n",
    "m.addConstr(y + x.sum() - 1000 <= 0)\n",
    "m.setParam('OutputFlag', 0)\n",
    "m.optimize()\n",
    "print(x.X)\n",
    "print(y.X)\n",
    "print(m.ObjVal)"
   ]
  },
  {
   "cell_type": "code",
   "execution_count": 6,
   "metadata": {},
   "outputs": [],
   "source": [
    "from typing import Dict\n",
    "\n",
    "class MP(metaclass=Singleton):\n",
    "    def __init__(self, coefficient: Dict[str, np.ndarray]) -> None:\n",
    "        self.master_problem = gp.Model(\"Master Problem\")\n",
    "        self.master_problem.setParam('OutputFlag', 0)\n",
    "        self.y = self.master_problem.addMVar(1, vtype=gp.GRB.INTEGER, name=\"y\")\n",
    "        self.y = np.array(self.y.tolist())\n",
    "        self.y = np.concatenate([self.y, self.master_problem.addMVar(coefficient['x'].shape, vtype=gp.GRB.INTEGER, lb=0, ub=0, name='y_pad').tolist()]).tolist()\n",
    "        self.y = gp.MVar.fromlist(self.y)\n",
    "        \n",
    "        self.q = self.master_problem.addMVar(1, lb=-float(\"inf\"), vtype=gp.GRB.CONTINUOUS, name=\"q\")\n",
    "        self.master_problem.setObjective((coefficient['y'] * self.y).sum() + 1 * self.q, sense=gp.GRB.MINIMIZE)\n",
    "\n",
    "        self.rhs = coefficient[\"b\"] - self.y\n",
    "    def update_constr(self, extrem_pnt: np.ndarray = None, extrem_ray: np.ndarray = None):\n",
    "        if extrem_pnt is not None and extrem_pnt.size > 0:\n",
    "            # 最优性约束\n",
    "            self.master_problem.addConstr((extrem_pnt * self.rhs).sum() - self.q <= 0, name='optimal_constr')\n",
    "        if extrem_ray is not None and extrem_ray.size > 0:\n",
    "            # 可行约束\n",
    "            self.master_problem.addConstr((extrem_ray * self.rhs).sum() <= 0, name='feasible_constr')\n",
    "    def solve(self):\n",
    "        self.master_problem.write('master_problem.lp')\n",
    "        self.master_problem.optimize()\n",
    "        return self.master_problem.ObjVal\n",
    "    def get_y_value(self):\n",
    "        return self.y.X"
   ]
  },
  {
   "cell_type": "code",
   "execution_count": 7,
   "metadata": {},
   "outputs": [
    {
     "data": {
      "text/plain": [
       "<MLinExpr (11,)  >\n",
       "array([ 1000.0 + -1.0 <gurobi.Var *Awaiting Model Update*>,\n",
       "        100.0 + -1.0 <gurobi.Var *Awaiting Model Update*>,\n",
       "        100.0 + -1.0 <gurobi.Var *Awaiting Model Update*>,\n",
       "        100.0 + -1.0 <gurobi.Var *Awaiting Model Update*>,\n",
       "        100.0 + -1.0 <gurobi.Var *Awaiting Model Update*>,\n",
       "        100.0 + -1.0 <gurobi.Var *Awaiting Model Update*>,\n",
       "        100.0 + -1.0 <gurobi.Var *Awaiting Model Update*>,\n",
       "        100.0 + -1.0 <gurobi.Var *Awaiting Model Update*>,\n",
       "        100.0 + -1.0 <gurobi.Var *Awaiting Model Update*>,\n",
       "        100.0 + -1.0 <gurobi.Var *Awaiting Model Update*>,\n",
       "        100.0 + -1.0 <gurobi.Var *Awaiting Model Update*>])"
      ]
     },
     "execution_count": 7,
     "metadata": {},
     "output_type": "execute_result"
    }
   ],
   "source": [
    "mp = MP(coefficient)\n",
    "mp.rhs\n",
    "# coefficient[\"b\"] - mp.y"
   ]
  },
  {
   "cell_type": "code",
   "execution_count": 8,
   "metadata": {},
   "outputs": [],
   "source": [
    "from typing import Dict\n",
    "\n",
    "class SUBP(metaclass=Singleton):\n",
    "    def __init__(self, coefficient: Dict[str, np.ndarray]) -> None:\n",
    "        self.sub_problem = gp.Model(\"Sub Problem\")\n",
    "        self.sub_problem.setParam('OutputFlag', 0)\n",
    "        self.x = self.sub_problem.addMVar(coefficient['x'].shape, vtype=gp.GRB.CONTINUOUS, name=\"x\")\n",
    "        self.sub_problem.setObjective((coefficient['x'] * self.x).sum(), gp.GRB.MINIMIZE)\n",
    "    def update_y_value(self, y_value: list):\n",
    "        self.y_value = y_value\n",
    "        cur_constraints = self.sub_problem.getConstrs()\n",
    "        self.sub_problem.remove(cur_constraints)\n",
    "        self.sub_problem.update()\n",
    "        self.sub_problem.addConstr(self.x.sum() - 1000 + self.y_value[0] <= 0, name='sub_problem_constr')\n",
    "        for i in range(coefficient['x'].shape[0]):\n",
    "            self.sub_problem.addConstr(self.x[i] <= 100)\n",
    "        self.sub_problem.write('sub_problem.lp')\n",
    "        \n",
    "    def get_sub_pbm_res(self):\n",
    "        self.sub_problem.setParam('InfUnbdInfo', 1)\n",
    "        self.sub_problem.optimize()\n",
    "        return self.sub_problem.Status"
   ]
  },
  {
   "cell_type": "code",
   "execution_count": 9,
   "metadata": {},
   "outputs": [
    {
     "name": "stdout",
     "output_type": "stream",
     "text": [
      "Current lower bound is -2.045e+30\n",
      "Current y is [ 1.e+30 -0.e+00 -0.e+00 -0.e+00 -0.e+00 -0.e+00 -0.e+00 -0.e+00 -0.e+00\n",
      " -0.e+00 -0.e+00]\n"
     ]
    }
   ],
   "source": [
    "mp = MP(coefficient)\n",
    "lb = mp.solve()\n",
    "print(f\"Current lower bound is {lb}\")\n",
    "y_value = mp.get_y_value()\n",
    "print(f\"Current y is {y_value}\")\n",
    "# y_value = 1500"
   ]
  },
  {
   "cell_type": "code",
   "execution_count": 22,
   "metadata": {},
   "outputs": [
    {
     "name": "stdout",
     "output_type": "stream",
     "text": [
      "Current Pi is [-1.05, 0.0, 0.0, 0.0, 0.0, 0.0, -0.010000000000000009, -0.020000000000000018, -0.030000000000000027, -0.040000000000000036, -0.050000000000000044]\n",
      "Q_y: -592.5\n",
      "Current ub[-1062.75  -592.5   -592.5   -592.5   -592.5   -592.5   -592.5   -592.5\n",
      "  -592.5   -592.5   -592.5 ]\n"
     ]
    }
   ],
   "source": [
    "sp = SUBP(coefficient)\n",
    "sp.update_y_value(y_value)\n",
    "if sp.get_sub_pbm_res() == 2:\n",
    "    # 子问题可行，更新原问题上界\n",
    "    Pi_list = []\n",
    "    for c in sp.sub_problem.getConstrs():\n",
    "        Pi_list.append(c.Pi)\n",
    "    print(f\"Current Pi is {Pi_list}\")\n",
    "    Q_y = sp.sub_problem.ObjVal\n",
    "    print(f'Q_y: {Q_y}')\n",
    "    print(f\"Current ub{Q_y + y_value * coefficient['y']}\")\n",
    "else:\n",
    "    # 子问题不可行，更新原问题上界\n",
    "    farkasdual_list = []\n",
    "    for c in sp.sub_problem.getConstrs():\n",
    "        farkasdual_list.append(-c.farkasdual)\n",
    "    print(f\"Current farkasdual is {farkasdual_list}\")"
   ]
  },
  {
   "cell_type": "code",
   "execution_count": 11,
   "metadata": {},
   "outputs": [
    {
     "data": {
      "text/plain": [
       "<gurobi.Model Continuous instance Sub Problem: 11 constrs, 10 vars, Parameter changes: InfUnbdInfo=1, OutputFlag=0>"
      ]
     },
     "execution_count": 11,
     "metadata": {},
     "output_type": "execute_result"
    }
   ],
   "source": [
    "sp.sub_problem"
   ]
  },
  {
   "cell_type": "code",
   "execution_count": 11,
   "metadata": {},
   "outputs": [
    {
     "name": "stdout",
     "output_type": "stream",
     "text": [
      "Current lower bound is -1e+30\n",
      "Current y is [1000.   -0.   -0.   -0.   -0.   -0.   -0.   -0.   -0.   -0.   -0.]\n"
     ]
    }
   ],
   "source": [
    "mp = MP(coefficient)\n",
    "mp.update_constr(extrem_ray=np.array(farkasdual_list))\n",
    "lb = mp.solve()\n",
    "print(f\"Current lower bound is {lb}\")\n",
    "y_value = mp.get_y_value()\n",
    "print(f\"Current y is {y_value}\")"
   ]
  },
  {
   "cell_type": "code",
   "execution_count": 21,
   "metadata": {},
   "outputs": [
    {
     "name": "stdout",
     "output_type": "stream",
     "text": [
      "Current lower bound is -1063.25\n",
      "Current y is [450.   0.   0.   0.   0.   0.   0.   0.   0.   0.   0.]\n"
     ]
    }
   ],
   "source": [
    "mp = MP(coefficient)\n",
    "mp.update_constr(extrem_pnt=np.array(Pi_list))\n",
    "lb = mp.solve()\n",
    "print(f\"Current lower bound is {lb}\")\n",
    "y_value = mp.get_y_value()\n",
    "print(f\"Current y is {y_value}\")"
   ]
  }
 ],
 "metadata": {
  "kernelspec": {
   "display_name": ".venv",
   "language": "python",
   "name": "python3"
  },
  "language_info": {
   "codemirror_mode": {
    "name": "ipython",
    "version": 3
   },
   "file_extension": ".py",
   "mimetype": "text/x-python",
   "name": "python",
   "nbconvert_exporter": "python",
   "pygments_lexer": "ipython3",
   "version": "3.10.13"
  }
 },
 "nbformat": 4,
 "nbformat_minor": 2
}
