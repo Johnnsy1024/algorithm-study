{
 "cells": [
  {
   "cell_type": "code",
   "execution_count": 70,
   "metadata": {},
   "outputs": [],
   "source": [
    "import gurobipy as gp\n",
    "import numpy as np"
   ]
  },
  {
   "cell_type": "code",
   "execution_count": 69,
   "metadata": {},
   "outputs": [],
   "source": [
    "coefficient = dict()\n",
    "coefficient['y'] = -np.r_[[1.045], [0] * 10]\n",
    "coefficient['x'] = -np.r_[1.01:1.10:0.01]\n",
    "coefficient['b'] = np.r_[[1000], np.r_[[100] * 10]]"
   ]
  },
  {
   "cell_type": "code",
   "execution_count": 75,
   "metadata": {},
   "outputs": [
    {
     "data": {
      "text/plain": [
       "array([-1.01, -1.02, -1.03, -1.04, -1.05, -1.06, -1.07, -1.08, -1.09,\n",
       "       -1.1 ])"
      ]
     },
     "execution_count": 75,
     "metadata": {},
     "output_type": "execute_result"
    }
   ],
   "source": [
    "coefficient['x']"
   ]
  },
  {
   "cell_type": "code",
   "execution_count": 72,
   "metadata": {},
   "outputs": [],
   "source": [
    "from typing import Any\n",
    "\n",
    "# 继承type，使Singleton成为元类，以Singleton为metaclass的类在实例化的时候调用Singleton的__call__()函数\n",
    "class Singleton(type):\n",
    "    _instance = {}\n",
    "\n",
    "    def __call__(cls, *args: Any, **kwds: Any) -> Any:\n",
    "        if cls not in cls._instance:\n",
    "            cls._instance[cls] = super(Singleton, cls).__call__(*args,  **kwds)\n",
    "        return cls._instance[cls]"
   ]
  },
  {
   "cell_type": "code",
   "execution_count": 85,
   "metadata": {},
   "outputs": [],
   "source": [
    "from typing import Dict\n",
    "\n",
    "class MP(metaclass=Singleton):\n",
    "    def __init__(self, coefficient: Dict[str, np.ndarray]) -> None:\n",
    "        self.master_problem = gp.Model(\"Master Problem\")\n",
    "        self.master_problem.setParam('OutputFlag', 0)\n",
    "        self.y = np.array(self.master_problem.addMVar(1, vtype=gp.GRB.INTEGER, name=\"y\").tolist())\n",
    "        self.y = np.concatenate([self.y, self.master_problem.addMVar(coefficient['x'].shape, vtype=gp.GRB.INTEGER, lb=0, ub=0, name='y_pad').tolist()]).tolist()\n",
    "        self.y = gp.MVar.fromlist(self.y)\n",
    "        \n",
    "        self.q = self.master_problem.addMVar(1, lb=-float(\"inf\"), vtype=gp.GRB.CONTINUOUS, name=\"q\")\n",
    "        self.master_problem.setObjective((coefficient['y'] * self.y).sum() + 1* self.q, sense=gp.GRB.MINIMIZE)\n",
    "        self.b = coefficient['b']\n",
    "        self.rhs = coefficient[\"b\"] - self.y\n",
    "    def update_constr(self, extrem_pnt: np.ndarray = None, extrem_ray: np.ndarray = None):\n",
    "        if extrem_pnt or extrem_ray:\n",
    "            # 可行约束\n",
    "            self.master_problem.addConstr(extrem_ray.dot(self.rhs) <= 0, name='feasible_constr')\n",
    "            # 最优性约束\n",
    "            self.master_problem.addConstr(extrem_pnt.dot(self.rhs) - self.q <= 0, name='optimal_constr')\n",
    "    def solve(self):\n",
    "        self.master_problem.optimize()\n",
    "        return self.y.X[0]"
   ]
  },
  {
   "cell_type": "code",
   "execution_count": 159,
   "metadata": {},
   "outputs": [],
   "source": [
    "from typing import Dict\n",
    "\n",
    "from networkx import constraint\n",
    "\n",
    "class SUBP(metaclass=Singleton):\n",
    "    def __init__(self, coefficient: Dict[str, np.ndarray], ) -> None:\n",
    "        self.sub_problem = gp.Model(\"Sub Problem\")\n",
    "        self.sub_problem.setParam('OutputFlag', 0)\n",
    "        self.x = self.sub_problem.addMVar(coefficient['x'].shape, vtype=gp.GRB.CONTINUOUS, lb=0, ub=100, name=\"x\")\n",
    "        self.sub_problem.setObjective((coefficient['x'] * self.x).sum())\n",
    "    def update_y_value(self, y_value: int):\n",
    "        self.y_value = y_value\n",
    "        self.sub_problem.addConstr(self.x.sum() - 1000 + self.y_value <= 0, name='sub_problem_constr')\n",
    "    def solve(self):\n",
    "        self.sub_problem.setParam('InfUnbdInfo', 1)\n",
    "        self.sub_problem.optimize()\n",
    "        if self.sub_problem.Status != 2:\n",
    "            constraints = self.sub_problem.getConstrs()\n",
    "            for c in constraints:\n",
    "                print(c.farkasdual)"
   ]
  },
  {
   "cell_type": "code",
   "execution_count": 133,
   "metadata": {},
   "outputs": [
    {
     "data": {
      "text/plain": [
       "1e+30"
      ]
     },
     "execution_count": 133,
     "metadata": {},
     "output_type": "execute_result"
    }
   ],
   "source": [
    "mp = MP(coefficient)\n",
    "y_value = mp.solve()\n",
    "y_value"
   ]
  },
  {
   "cell_type": "code",
   "execution_count": 160,
   "metadata": {},
   "outputs": [
    {
     "name": "stdout",
     "output_type": "stream",
     "text": [
      "1.0\n",
      "None\n"
     ]
    }
   ],
   "source": [
    "sub_problem = SUBP(coefficient)\n",
    "sub_problem.update_y_value(1500)\n",
    "print(sub_problem.solve())"
   ]
  },
  {
   "cell_type": "code",
   "execution_count": 19,
   "metadata": {},
   "outputs": [
    {
     "data": {
      "text/plain": [
       "<MLinExpr (10,)  >\n",
       "array([ -1.01 <gurobi.Var *Awaiting Model Update*>,\n",
       "        -1.02 <gurobi.Var *Awaiting Model Update*>,\n",
       "        -1.03 <gurobi.Var *Awaiting Model Update*>,\n",
       "        -1.04 <gurobi.Var *Awaiting Model Update*>,\n",
       "        -1.05 <gurobi.Var *Awaiting Model Update*>,\n",
       "        -1.06 <gurobi.Var *Awaiting Model Update*>,\n",
       "        -1.07 <gurobi.Var *Awaiting Model Update*>,\n",
       "        -1.08 <gurobi.Var *Awaiting Model Update*>,\n",
       "        -1.09 <gurobi.Var *Awaiting Model Update*>,\n",
       "        -1.1 <gurobi.Var *Awaiting Model Update*>])"
      ]
     },
     "execution_count": 19,
     "metadata": {},
     "output_type": "execute_result"
    }
   ],
   "source": [
    "y_value = 0\n",
    "sub_problem = gp.Model(\"Sub Problem\")\n",
    "x = sub_problem.addMVar(coefficient['x'].shape, vtype=gp.GRB.CONTINUOUS, name=\"x\")\n",
    "sub_problem.addConstr(x.sum() - 1000 + y_value <= 0, name='sub_problem_constr')\n",
    "sub_problem.setObjective(coefficient['x'] * x, gp.GRB.MAXIMIZE)\n",
    "# coefficient['x'] * x"
   ]
  }
 ],
 "metadata": {
  "kernelspec": {
   "display_name": ".venv",
   "language": "python",
   "name": "python3"
  },
  "language_info": {
   "codemirror_mode": {
    "name": "ipython",
    "version": 3
   },
   "file_extension": ".py",
   "mimetype": "text/x-python",
   "name": "python",
   "nbconvert_exporter": "python",
   "pygments_lexer": "ipython3",
   "version": "3.10.13"
  }
 },
 "nbformat": 4,
 "nbformat_minor": 2
}
