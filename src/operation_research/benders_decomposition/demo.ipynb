{
 "cells": [
  {
   "cell_type": "code",
   "execution_count": 1,
   "metadata": {},
   "outputs": [],
   "source": [
    "import gurobipy as gp\n",
    "import numpy as np"
   ]
  },
  {
   "cell_type": "code",
   "execution_count": 2,
   "metadata": {},
   "outputs": [],
   "source": [
    "coefficient = dict()\n",
    "# coefficient['y'] = -np.r_[[1.045], [0] * 10]\n",
    "coefficient['y'] = np.array(-1.045)\n",
    "coefficient['x'] = -np.r_[1.01:1.10:0.01]\n",
    "# coefficient['b'] = np.r_[[1000], np.r_[[100] * 10]]\n",
    "coefficient['b'] = np.array(1000)"
   ]
  },
  {
   "cell_type": "code",
   "execution_count": 3,
   "metadata": {},
   "outputs": [],
   "source": [
    "from typing import Any\n",
    "\n",
    "# 继承type，使Singleton成为元类，以Singleton为metaclass的类在实例化的时候调用Singleton的__call__()函数\n",
    "class Singleton(type):\n",
    "    _instance = {}\n",
    "\n",
    "    def __call__(cls, *args: Any, **kwds: Any) -> Any:\n",
    "        if cls not in cls._instance:\n",
    "            cls._instance[cls] = super(Singleton, cls).__call__(*args,  **kwds)\n",
    "        return cls._instance[cls]"
   ]
  },
  {
   "cell_type": "code",
   "execution_count": 4,
   "metadata": {},
   "outputs": [],
   "source": [
    "from typing import Dict\n",
    "\n",
    "class MP(metaclass=Singleton):\n",
    "    def __init__(self, coefficient: Dict[str, np.ndarray]) -> None:\n",
    "        self.master_problem = gp.Model(\"Master Problem\")\n",
    "        self.master_problem.setParam('OutputFlag', 0)\n",
    "        self.y = self.master_problem.addMVar(1, vtype=gp.GRB.INTEGER, name=\"y\")\n",
    "        \n",
    "        self.q = self.master_problem.addMVar(1, lb=-float(\"inf\"), vtype=gp.GRB.CONTINUOUS, name=\"q\")\n",
    "        self.master_problem.setObjective(coefficient['y'] * self.y - 1 * self.q, sense=gp.GRB.MINIMIZE)\n",
    "        self.b = coefficient['b']\n",
    "        self.rhs = coefficient[\"b\"] - self.y\n",
    "    def update_constr(self, extrem_pnt: np.ndarray = None, extrem_ray: np.ndarray = None):\n",
    "\n",
    "        if extrem_pnt:\n",
    "            # 最优性约束\n",
    "            self.master_problem.addConstr(extrem_pnt * self.rhs - self.q <= 0, name='optimal_constr')\n",
    "        if extrem_ray:\n",
    "            # 可行约束\n",
    "            self.master_problem.addConstr(extrem_ray * self.rhs <= 0, name='feasible_constr')\n",
    "    def get_lower_bound(self):\n",
    "        self.master_problem.write('master_problem.lp')\n",
    "        self.master_problem.optimize()\n",
    "        return self.master_problem.ObjVal\n",
    "    def get_y_value(self):\n",
    "        return self.y.X"
   ]
  },
  {
   "cell_type": "code",
   "execution_count": 5,
   "metadata": {},
   "outputs": [],
   "source": [
    "from typing import Dict\n",
    "\n",
    "from networkx import constraint\n",
    "\n",
    "class SUBP(metaclass=Singleton):\n",
    "    def __init__(self, coefficient: Dict[str, np.ndarray]) -> None:\n",
    "        self.sub_problem = gp.Model(\"Sub Problem\")\n",
    "        self.sub_problem.setParam('OutputFlag', 0)\n",
    "        self.x = self.sub_problem.addMVar(coefficient['x'].shape, vtype=gp.GRB.CONTINUOUS, lb=0, ub=100, name=\"x\")\n",
    "        self.sub_problem.setObjective((coefficient['x'] * self.x).sum(),gp.GRB.MINIMIZE)\n",
    "    def update_y_value(self, y_value: int):\n",
    "        self.y_value = y_value\n",
    "        cur_constraints = self.sub_problem.getConstrs()\n",
    "        self.sub_problem.remove(cur_constraints)\n",
    "        self.sub_problem.addConstr(self.x.sum() - 1000 + self.y_value <= 0, name='sub_problem_constr')\n",
    "        # self.sub_problem.write('sub_problem.lp')\n",
    "        \n",
    "    def get_sub_pbm_res(self):\n",
    "        self.sub_problem.setParam('InfUnbdInfo', 1)\n",
    "        self.sub_problem.optimize()\n",
    "        return self.sub_problem.Status"
   ]
  },
  {
   "cell_type": "code",
   "execution_count": 6,
   "metadata": {},
   "outputs": [
    {
     "name": "stdout",
     "output_type": "stream",
     "text": [
      "Current lower bound is -2.045e+30\n",
      "Current y is [1.e+30]\n"
     ]
    }
   ],
   "source": [
    "mp = MP(coefficient)\n",
    "lb = mp.get_lower_bound()\n",
    "print(f\"Current lower bound is {lb}\")\n",
    "y_value = mp.get_y_value()\n",
    "print(f\"Current y is {y_value}\")"
   ]
  },
  {
   "cell_type": "code",
   "execution_count": 16,
   "metadata": {},
   "outputs": [
    {
     "name": "stdout",
     "output_type": "stream",
     "text": [
      "Current Pi is [1.1]\n"
     ]
    }
   ],
   "source": [
    "sp = SUBP(coefficient)\n",
    "sp.update_y_value(y_value)\n",
    "if sp.get_sub_pbm_res() == 2:\n",
    "    # 子问题可行，更新原问题上界\n",
    "    Pi_list = []\n",
    "    for c in sp.sub_problem.getConstrs():\n",
    "        Pi_list.append(-c.Pi)\n",
    "    print(f\"Current Pi is {Pi_list}\")\n",
    "else:\n",
    "    # 子问题不可行，更新原问题上界\n",
    "    farkasdual_list = []\n",
    "    for c in sp.sub_problem.getConstrs():\n",
    "        farkasdual_list.append(-c.farkasdual)\n",
    "    print(f\"Current farkasdual is {farkasdual_list}\")"
   ]
  },
  {
   "cell_type": "code",
   "execution_count": 14,
   "metadata": {},
   "outputs": [
    {
     "name": "stdout",
     "output_type": "stream",
     "text": [
      "Current lower bound is -1e+30\n",
      "Current y is [1000.]\n"
     ]
    }
   ],
   "source": [
    "mp = MP(coefficient)\n",
    "mp.update_constr(extrem_ray=farkasdual_list[0])\n",
    "lb = mp.get_lower_bound()\n",
    "print(f\"Current lower bound is {lb}\")\n",
    "y_value = mp.get_y_value()\n",
    "print(f\"Current y is {y_value}\")"
   ]
  },
  {
   "cell_type": "code",
   "execution_count": 15,
   "metadata": {},
   "outputs": [
    {
     "data": {
      "text/plain": [
       "array([1000.])"
      ]
     },
     "execution_count": 15,
     "metadata": {},
     "output_type": "execute_result"
    }
   ],
   "source": [
    "y_value"
   ]
  },
  {
   "cell_type": "code",
   "execution_count": 24,
   "metadata": {},
   "outputs": [
    {
     "name": "stdout",
     "output_type": "stream",
     "text": [
      "Current lower bound is -1e+30\n",
      "Current y is [1000.]\n"
     ]
    }
   ],
   "source": [
    "mp.update_constr(extrem_pnt=-Pi_list[0])\n",
    "lb = mp.get_lower_bound()\n",
    "print(f\"Current lower bound is {lb}\")\n",
    "y_value = mp.get_y_value()\n",
    "print(f\"Current y is {y_value}\")\n",
    "mp.master_problem.write('master_problem.lp')"
   ]
  },
  {
   "cell_type": "code",
   "execution_count": 23,
   "metadata": {},
   "outputs": [
    {
     "name": "stdout",
     "output_type": "stream",
     "text": [
      "Read LP format model from file master_problem.lp\n",
      "Reading time = 0.00 seconds\n",
      ": 13 rows, 2 columns, 18 nonzeros\n",
      "Gurobi Optimizer version 11.0.1 build v11.0.1rc0 (mac64[arm] - Darwin 23.3.0 23D60)\n",
      "\n",
      "CPU model: Apple M1 Pro\n",
      "Thread count: 8 physical cores, 8 logical processors, using up to 8 threads\n",
      "\n",
      "Optimize a model with 13 rows, 2 columns and 18 nonzeros\n",
      "Model fingerprint: 0x79bb359c\n",
      "Variable types: 1 continuous, 1 integer (0 binary)\n",
      "Coefficient statistics:\n",
      "  Matrix range     [1e+00, 1e+00]\n",
      "  Objective range  [1e+00, 1e+00]\n",
      "  Bounds range     [0e+00, 0e+00]\n",
      "  RHS range        [1e+03, 1e+03]\n",
      "Found heuristic solution: objective -1.00000e+30\n",
      "Presolve time: 0.00s\n",
      "\n",
      "Explored 0 nodes (0 simplex iterations) in 0.00 seconds (0.00 work units)\n",
      "Thread count was 1 (of 8 available processors)\n",
      "\n",
      "Solution count 1: -1e+30 \n",
      "No other solutions better than 0\n",
      "\n",
      "Model is unbounded\n",
      "Best objective -1.000000000000e+30, best bound -, gap -\n"
     ]
    }
   ],
   "source": [
    "m_ = gp.read('master_problem.lp')\n",
    "m_.optimize()"
   ]
  }
 ],
 "metadata": {
  "kernelspec": {
   "display_name": ".venv",
   "language": "python",
   "name": "python3"
  },
  "language_info": {
   "codemirror_mode": {
    "name": "ipython",
    "version": 3
   },
   "file_extension": ".py",
   "mimetype": "text/x-python",
   "name": "python",
   "nbconvert_exporter": "python",
   "pygments_lexer": "ipython3",
   "version": "3.10.13"
  }
 },
 "nbformat": 4,
 "nbformat_minor": 2
}
